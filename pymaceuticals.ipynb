{
 "cells": [
  {
   "cell_type": "markdown",
   "metadata": {},
   "source": [
    "## Observations and Insights\n",
    "Based on the the results from the graphs and analytics of the data, the following observtions stood out:\n",
    "1. Amove the four drug regimen selected for closer examination, the box plots show that overall the tumor volumes have very little dispersion. Ceftamin have a lot more dispersion than the other three and Infubinol is the only regiment with an outlier. The plots show further that tumore volumes for Ramicane and Infubinol are almost normal while those for Capomulin and Ceftamin have negative/left skewness, with Ceftmin have a greater negative skewness.\n",
    "\n",
    "2. The analysis also show that on average heavier rabits have larger tumors. This is illustrated by both the scatter plot for the average tumor volume and mouse weight as well as the regression line. This results is based on the four regimens selected for a closer analysis.\n",
    "\n",
    "3. For the mouse with Mouse ID s185, the tumor volume decreases over time as shown by the line graph of tumor volume and timepoint for that rabbit."
   ]
  },
  {
   "cell_type": "markdown",
   "metadata": {},
   "source": []
  },
  {
   "cell_type": "code",
   "execution_count": 1,
   "metadata": {
    "scrolled": true
   },
   "outputs": [
    {
     "data": {
      "text/html": [
       "<div>\n",
       "<style scoped>\n",
       "    .dataframe tbody tr th:only-of-type {\n",
       "        vertical-align: middle;\n",
       "    }\n",
       "\n",
       "    .dataframe tbody tr th {\n",
       "        vertical-align: top;\n",
       "    }\n",
       "\n",
       "    .dataframe thead th {\n",
       "        text-align: right;\n",
       "    }\n",
       "</style>\n",
       "<table border=\"1\" class=\"dataframe\">\n",
       "  <thead>\n",
       "    <tr style=\"text-align: right;\">\n",
       "      <th></th>\n",
       "      <th>Mouse ID</th>\n",
       "      <th>Drug Regimen</th>\n",
       "      <th>Sex</th>\n",
       "      <th>Age_months</th>\n",
       "      <th>Weight (g)</th>\n",
       "      <th>Timepoint</th>\n",
       "      <th>Tumor Volume (mm3)</th>\n",
       "      <th>Metastatic Sites</th>\n",
       "    </tr>\n",
       "  </thead>\n",
       "  <tbody>\n",
       "    <tr>\n",
       "      <th>0</th>\n",
       "      <td>k403</td>\n",
       "      <td>Ramicane</td>\n",
       "      <td>Male</td>\n",
       "      <td>21</td>\n",
       "      <td>16</td>\n",
       "      <td>0</td>\n",
       "      <td>45.000000</td>\n",
       "      <td>0</td>\n",
       "    </tr>\n",
       "    <tr>\n",
       "      <th>1</th>\n",
       "      <td>k403</td>\n",
       "      <td>Ramicane</td>\n",
       "      <td>Male</td>\n",
       "      <td>21</td>\n",
       "      <td>16</td>\n",
       "      <td>5</td>\n",
       "      <td>38.825898</td>\n",
       "      <td>0</td>\n",
       "    </tr>\n",
       "    <tr>\n",
       "      <th>2</th>\n",
       "      <td>k403</td>\n",
       "      <td>Ramicane</td>\n",
       "      <td>Male</td>\n",
       "      <td>21</td>\n",
       "      <td>16</td>\n",
       "      <td>10</td>\n",
       "      <td>35.014271</td>\n",
       "      <td>1</td>\n",
       "    </tr>\n",
       "    <tr>\n",
       "      <th>3</th>\n",
       "      <td>k403</td>\n",
       "      <td>Ramicane</td>\n",
       "      <td>Male</td>\n",
       "      <td>21</td>\n",
       "      <td>16</td>\n",
       "      <td>15</td>\n",
       "      <td>34.223992</td>\n",
       "      <td>1</td>\n",
       "    </tr>\n",
       "    <tr>\n",
       "      <th>4</th>\n",
       "      <td>k403</td>\n",
       "      <td>Ramicane</td>\n",
       "      <td>Male</td>\n",
       "      <td>21</td>\n",
       "      <td>16</td>\n",
       "      <td>20</td>\n",
       "      <td>32.997729</td>\n",
       "      <td>1</td>\n",
       "    </tr>\n",
       "  </tbody>\n",
       "</table>\n",
       "</div>"
      ],
      "text/plain": [
       "  Mouse ID Drug Regimen   Sex  Age_months  Weight (g)  Timepoint  \\\n",
       "0     k403     Ramicane  Male          21          16          0   \n",
       "1     k403     Ramicane  Male          21          16          5   \n",
       "2     k403     Ramicane  Male          21          16         10   \n",
       "3     k403     Ramicane  Male          21          16         15   \n",
       "4     k403     Ramicane  Male          21          16         20   \n",
       "\n",
       "   Tumor Volume (mm3)  Metastatic Sites  \n",
       "0           45.000000                 0  \n",
       "1           38.825898                 0  \n",
       "2           35.014271                 1  \n",
       "3           34.223992                 1  \n",
       "4           32.997729                 1  "
      ]
     },
     "execution_count": 1,
     "metadata": {},
     "output_type": "execute_result"
    }
   ],
   "source": [
    "# Dependencies and Setup\n",
    "import matplotlib.pyplot as plt\n",
    "import pandas as pd\n",
    "import scipy.stats as st\n",
    "import numpy as np\n",
    "from scipy.stats import linregress\n",
    "\n",
    "# Study data files\n",
    "mouse_metadata_path = \"data/Mouse_metadata.csv\"\n",
    "study_results_path = \"data/Study_results.csv\"\n",
    "\n",
    "# Read the mouse data and the study results\n",
    "mouse_metadata = pd.read_csv(mouse_metadata_path)\n",
    "study_results = pd.read_csv(study_results_path)\n",
    "\n",
    "#Combine the data into a single dataset\n",
    "df = pd.merge(mouse_metadata, study_results, on='Mouse ID')\n",
    "\n",
    "# Display the data table for preview\n",
    "df.head()"
   ]
  },
  {
   "cell_type": "code",
   "execution_count": 2,
   "metadata": {},
   "outputs": [
    {
     "data": {
      "text/plain": [
       "1893"
      ]
     },
     "execution_count": 2,
     "metadata": {},
     "output_type": "execute_result"
    }
   ],
   "source": [
    "# Checking the number of mice.\n",
    "df['Mouse ID'].count()"
   ]
  },
  {
   "cell_type": "code",
   "execution_count": 3,
   "metadata": {},
   "outputs": [
    {
     "data": {
      "text/html": [
       "<div>\n",
       "<style scoped>\n",
       "    .dataframe tbody tr th:only-of-type {\n",
       "        vertical-align: middle;\n",
       "    }\n",
       "\n",
       "    .dataframe tbody tr th {\n",
       "        vertical-align: top;\n",
       "    }\n",
       "\n",
       "    .dataframe thead th {\n",
       "        text-align: right;\n",
       "    }\n",
       "</style>\n",
       "<table border=\"1\" class=\"dataframe\">\n",
       "  <thead>\n",
       "    <tr style=\"text-align: right;\">\n",
       "      <th></th>\n",
       "      <th>Mouse ID</th>\n",
       "      <th>Drug Regimen</th>\n",
       "      <th>Sex</th>\n",
       "      <th>Age_months</th>\n",
       "      <th>Weight (g)</th>\n",
       "      <th>Timepoint</th>\n",
       "      <th>Tumor Volume (mm3)</th>\n",
       "      <th>Metastatic Sites</th>\n",
       "    </tr>\n",
       "  </thead>\n",
       "  <tbody>\n",
       "    <tr>\n",
       "      <th>908</th>\n",
       "      <td>g989</td>\n",
       "      <td>Propriva</td>\n",
       "      <td>Female</td>\n",
       "      <td>21</td>\n",
       "      <td>26</td>\n",
       "      <td>0</td>\n",
       "      <td>45.000000</td>\n",
       "      <td>0</td>\n",
       "    </tr>\n",
       "    <tr>\n",
       "      <th>909</th>\n",
       "      <td>g989</td>\n",
       "      <td>Propriva</td>\n",
       "      <td>Female</td>\n",
       "      <td>21</td>\n",
       "      <td>26</td>\n",
       "      <td>0</td>\n",
       "      <td>45.000000</td>\n",
       "      <td>0</td>\n",
       "    </tr>\n",
       "    <tr>\n",
       "      <th>910</th>\n",
       "      <td>g989</td>\n",
       "      <td>Propriva</td>\n",
       "      <td>Female</td>\n",
       "      <td>21</td>\n",
       "      <td>26</td>\n",
       "      <td>5</td>\n",
       "      <td>48.786801</td>\n",
       "      <td>0</td>\n",
       "    </tr>\n",
       "    <tr>\n",
       "      <th>911</th>\n",
       "      <td>g989</td>\n",
       "      <td>Propriva</td>\n",
       "      <td>Female</td>\n",
       "      <td>21</td>\n",
       "      <td>26</td>\n",
       "      <td>5</td>\n",
       "      <td>47.570392</td>\n",
       "      <td>0</td>\n",
       "    </tr>\n",
       "    <tr>\n",
       "      <th>912</th>\n",
       "      <td>g989</td>\n",
       "      <td>Propriva</td>\n",
       "      <td>Female</td>\n",
       "      <td>21</td>\n",
       "      <td>26</td>\n",
       "      <td>10</td>\n",
       "      <td>51.745156</td>\n",
       "      <td>0</td>\n",
       "    </tr>\n",
       "    <tr>\n",
       "      <th>913</th>\n",
       "      <td>g989</td>\n",
       "      <td>Propriva</td>\n",
       "      <td>Female</td>\n",
       "      <td>21</td>\n",
       "      <td>26</td>\n",
       "      <td>10</td>\n",
       "      <td>49.880528</td>\n",
       "      <td>0</td>\n",
       "    </tr>\n",
       "    <tr>\n",
       "      <th>914</th>\n",
       "      <td>g989</td>\n",
       "      <td>Propriva</td>\n",
       "      <td>Female</td>\n",
       "      <td>21</td>\n",
       "      <td>26</td>\n",
       "      <td>15</td>\n",
       "      <td>51.325852</td>\n",
       "      <td>1</td>\n",
       "    </tr>\n",
       "    <tr>\n",
       "      <th>915</th>\n",
       "      <td>g989</td>\n",
       "      <td>Propriva</td>\n",
       "      <td>Female</td>\n",
       "      <td>21</td>\n",
       "      <td>26</td>\n",
       "      <td>15</td>\n",
       "      <td>53.442020</td>\n",
       "      <td>0</td>\n",
       "    </tr>\n",
       "    <tr>\n",
       "      <th>916</th>\n",
       "      <td>g989</td>\n",
       "      <td>Propriva</td>\n",
       "      <td>Female</td>\n",
       "      <td>21</td>\n",
       "      <td>26</td>\n",
       "      <td>20</td>\n",
       "      <td>55.326122</td>\n",
       "      <td>1</td>\n",
       "    </tr>\n",
       "    <tr>\n",
       "      <th>917</th>\n",
       "      <td>g989</td>\n",
       "      <td>Propriva</td>\n",
       "      <td>Female</td>\n",
       "      <td>21</td>\n",
       "      <td>26</td>\n",
       "      <td>20</td>\n",
       "      <td>54.657650</td>\n",
       "      <td>1</td>\n",
       "    </tr>\n",
       "  </tbody>\n",
       "</table>\n",
       "</div>"
      ],
      "text/plain": [
       "    Mouse ID Drug Regimen     Sex  Age_months  Weight (g)  Timepoint  \\\n",
       "908     g989     Propriva  Female          21          26          0   \n",
       "909     g989     Propriva  Female          21          26          0   \n",
       "910     g989     Propriva  Female          21          26          5   \n",
       "911     g989     Propriva  Female          21          26          5   \n",
       "912     g989     Propriva  Female          21          26         10   \n",
       "913     g989     Propriva  Female          21          26         10   \n",
       "914     g989     Propriva  Female          21          26         15   \n",
       "915     g989     Propriva  Female          21          26         15   \n",
       "916     g989     Propriva  Female          21          26         20   \n",
       "917     g989     Propriva  Female          21          26         20   \n",
       "\n",
       "     Tumor Volume (mm3)  Metastatic Sites  \n",
       "908           45.000000                 0  \n",
       "909           45.000000                 0  \n",
       "910           48.786801                 0  \n",
       "911           47.570392                 0  \n",
       "912           51.745156                 0  \n",
       "913           49.880528                 0  \n",
       "914           51.325852                 1  \n",
       "915           53.442020                 0  \n",
       "916           55.326122                 1  \n",
       "917           54.657650                 1  "
      ]
     },
     "execution_count": 3,
     "metadata": {},
     "output_type": "execute_result"
    }
   ],
   "source": [
    "# Getting the duplicate mice by ID number that shows up for Mouse ID and Timepoint. \n",
    "duplicate_id = df[df.duplicated(['Mouse ID', 'Timepoint'], keep=False)]\n",
    "duplicate_id\n"
   ]
  },
  {
   "cell_type": "code",
   "execution_count": 4,
   "metadata": {},
   "outputs": [
    {
     "name": "stdout",
     "output_type": "stream",
     "text": [
      "Duplicate Rows based on Mouse ID and Timepoint are:\n",
      "    Mouse ID Drug Regimen     Sex  Age_months  Weight (g)  Timepoint  \\\n",
      "908     g989     Propriva  Female          21          26          0   \n",
      "909     g989     Propriva  Female          21          26          0   \n",
      "910     g989     Propriva  Female          21          26          5   \n",
      "911     g989     Propriva  Female          21          26          5   \n",
      "912     g989     Propriva  Female          21          26         10   \n",
      "913     g989     Propriva  Female          21          26         10   \n",
      "914     g989     Propriva  Female          21          26         15   \n",
      "915     g989     Propriva  Female          21          26         15   \n",
      "916     g989     Propriva  Female          21          26         20   \n",
      "917     g989     Propriva  Female          21          26         20   \n",
      "\n",
      "     Tumor Volume (mm3)  Metastatic Sites  \n",
      "908           45.000000                 0  \n",
      "909           45.000000                 0  \n",
      "910           48.786801                 0  \n",
      "911           47.570392                 0  \n",
      "912           51.745156                 0  \n",
      "913           49.880528                 0  \n",
      "914           51.325852                 1  \n",
      "915           53.442020                 0  \n",
      "916           55.326122                 1  \n",
      "917           54.657650                 1  \n"
     ]
    }
   ],
   "source": [
    "# Optional: Get all the data for the duplicate mouse ID. \n",
    "print(\"Duplicate Rows based on Mouse ID and Timepoint are:\", duplicate_id, sep='\\n')\n"
   ]
  },
  {
   "cell_type": "code",
   "execution_count": 5,
   "metadata": {},
   "outputs": [
    {
     "data": {
      "text/html": [
       "<div>\n",
       "<style scoped>\n",
       "    .dataframe tbody tr th:only-of-type {\n",
       "        vertical-align: middle;\n",
       "    }\n",
       "\n",
       "    .dataframe tbody tr th {\n",
       "        vertical-align: top;\n",
       "    }\n",
       "\n",
       "    .dataframe thead th {\n",
       "        text-align: right;\n",
       "    }\n",
       "</style>\n",
       "<table border=\"1\" class=\"dataframe\">\n",
       "  <thead>\n",
       "    <tr style=\"text-align: right;\">\n",
       "      <th></th>\n",
       "      <th>Mouse ID</th>\n",
       "      <th>Drug Regimen</th>\n",
       "      <th>Sex</th>\n",
       "      <th>Age_months</th>\n",
       "      <th>Weight (g)</th>\n",
       "      <th>Timepoint</th>\n",
       "      <th>Tumor Volume (mm3)</th>\n",
       "      <th>Metastatic Sites</th>\n",
       "    </tr>\n",
       "  </thead>\n",
       "  <tbody>\n",
       "    <tr>\n",
       "      <th>0</th>\n",
       "      <td>k403</td>\n",
       "      <td>Ramicane</td>\n",
       "      <td>Male</td>\n",
       "      <td>21</td>\n",
       "      <td>16</td>\n",
       "      <td>0</td>\n",
       "      <td>45.000000</td>\n",
       "      <td>0</td>\n",
       "    </tr>\n",
       "    <tr>\n",
       "      <th>1</th>\n",
       "      <td>k403</td>\n",
       "      <td>Ramicane</td>\n",
       "      <td>Male</td>\n",
       "      <td>21</td>\n",
       "      <td>16</td>\n",
       "      <td>5</td>\n",
       "      <td>38.825898</td>\n",
       "      <td>0</td>\n",
       "    </tr>\n",
       "    <tr>\n",
       "      <th>2</th>\n",
       "      <td>k403</td>\n",
       "      <td>Ramicane</td>\n",
       "      <td>Male</td>\n",
       "      <td>21</td>\n",
       "      <td>16</td>\n",
       "      <td>10</td>\n",
       "      <td>35.014271</td>\n",
       "      <td>1</td>\n",
       "    </tr>\n",
       "    <tr>\n",
       "      <th>3</th>\n",
       "      <td>k403</td>\n",
       "      <td>Ramicane</td>\n",
       "      <td>Male</td>\n",
       "      <td>21</td>\n",
       "      <td>16</td>\n",
       "      <td>15</td>\n",
       "      <td>34.223992</td>\n",
       "      <td>1</td>\n",
       "    </tr>\n",
       "    <tr>\n",
       "      <th>4</th>\n",
       "      <td>k403</td>\n",
       "      <td>Ramicane</td>\n",
       "      <td>Male</td>\n",
       "      <td>21</td>\n",
       "      <td>16</td>\n",
       "      <td>20</td>\n",
       "      <td>32.997729</td>\n",
       "      <td>1</td>\n",
       "    </tr>\n",
       "  </tbody>\n",
       "</table>\n",
       "</div>"
      ],
      "text/plain": [
       "  Mouse ID Drug Regimen   Sex  Age_months  Weight (g)  Timepoint  \\\n",
       "0     k403     Ramicane  Male          21          16          0   \n",
       "1     k403     Ramicane  Male          21          16          5   \n",
       "2     k403     Ramicane  Male          21          16         10   \n",
       "3     k403     Ramicane  Male          21          16         15   \n",
       "4     k403     Ramicane  Male          21          16         20   \n",
       "\n",
       "   Tumor Volume (mm3)  Metastatic Sites  \n",
       "0           45.000000                 0  \n",
       "1           38.825898                 0  \n",
       "2           35.014271                 1  \n",
       "3           34.223992                 1  \n",
       "4           32.997729                 1  "
      ]
     },
     "execution_count": 5,
     "metadata": {},
     "output_type": "execute_result"
    }
   ],
   "source": [
    "# Create a clean DataFrame by dropping the duplicate mouse by its ID.\n",
    "cleaned_df = df.drop_duplicates(subset=['Mouse ID', 'Timepoint'], keep='first')\n",
    "cleaned_df.head()"
   ]
  },
  {
   "cell_type": "code",
   "execution_count": 6,
   "metadata": {},
   "outputs": [
    {
     "data": {
      "text/plain": [
       "1888"
      ]
     },
     "execution_count": 6,
     "metadata": {},
     "output_type": "execute_result"
    }
   ],
   "source": [
    "# Checking the number of mice in the clean DataFrame.\n",
    "cleaned_df['Mouse ID'].count()"
   ]
  },
  {
   "cell_type": "markdown",
   "metadata": {},
   "source": [
    "## Summary Statistics"
   ]
  },
  {
   "cell_type": "code",
   "execution_count": 7,
   "metadata": {},
   "outputs": [
    {
     "data": {
      "text/html": [
       "<div>\n",
       "<style scoped>\n",
       "    .dataframe tbody tr th:only-of-type {\n",
       "        vertical-align: middle;\n",
       "    }\n",
       "\n",
       "    .dataframe tbody tr th {\n",
       "        vertical-align: top;\n",
       "    }\n",
       "\n",
       "    .dataframe thead th {\n",
       "        text-align: right;\n",
       "    }\n",
       "</style>\n",
       "<table border=\"1\" class=\"dataframe\">\n",
       "  <thead>\n",
       "    <tr style=\"text-align: right;\">\n",
       "      <th></th>\n",
       "      <th>Mean</th>\n",
       "      <th>Median</th>\n",
       "      <th>Variance</th>\n",
       "      <th>Standard Deviation</th>\n",
       "      <th>SEM</th>\n",
       "    </tr>\n",
       "    <tr>\n",
       "      <th>Drug Regimen</th>\n",
       "      <th></th>\n",
       "      <th></th>\n",
       "      <th></th>\n",
       "      <th></th>\n",
       "      <th></th>\n",
       "    </tr>\n",
       "  </thead>\n",
       "  <tbody>\n",
       "    <tr>\n",
       "      <th>Capomulin</th>\n",
       "      <td>40.675741</td>\n",
       "      <td>41.557809</td>\n",
       "      <td>24.947764</td>\n",
       "      <td>4.994774</td>\n",
       "      <td>0.329346</td>\n",
       "    </tr>\n",
       "    <tr>\n",
       "      <th>Ceftamin</th>\n",
       "      <td>52.591172</td>\n",
       "      <td>51.776157</td>\n",
       "      <td>39.290177</td>\n",
       "      <td>6.268188</td>\n",
       "      <td>0.469821</td>\n",
       "    </tr>\n",
       "    <tr>\n",
       "      <th>Infubinol</th>\n",
       "      <td>52.884795</td>\n",
       "      <td>51.820584</td>\n",
       "      <td>43.128684</td>\n",
       "      <td>6.567243</td>\n",
       "      <td>0.492236</td>\n",
       "    </tr>\n",
       "    <tr>\n",
       "      <th>Ketapril</th>\n",
       "      <td>55.235638</td>\n",
       "      <td>53.698743</td>\n",
       "      <td>68.553577</td>\n",
       "      <td>8.279709</td>\n",
       "      <td>0.603860</td>\n",
       "    </tr>\n",
       "    <tr>\n",
       "      <th>Naftisol</th>\n",
       "      <td>54.331565</td>\n",
       "      <td>52.509285</td>\n",
       "      <td>66.173479</td>\n",
       "      <td>8.134708</td>\n",
       "      <td>0.596466</td>\n",
       "    </tr>\n",
       "    <tr>\n",
       "      <th>Placebo</th>\n",
       "      <td>54.033581</td>\n",
       "      <td>52.288934</td>\n",
       "      <td>61.168083</td>\n",
       "      <td>7.821003</td>\n",
       "      <td>0.581331</td>\n",
       "    </tr>\n",
       "    <tr>\n",
       "      <th>Propriva</th>\n",
       "      <td>52.393463</td>\n",
       "      <td>50.909965</td>\n",
       "      <td>43.138803</td>\n",
       "      <td>6.568014</td>\n",
       "      <td>0.525862</td>\n",
       "    </tr>\n",
       "    <tr>\n",
       "      <th>Ramicane</th>\n",
       "      <td>40.216745</td>\n",
       "      <td>40.673236</td>\n",
       "      <td>23.486704</td>\n",
       "      <td>4.846308</td>\n",
       "      <td>0.320955</td>\n",
       "    </tr>\n",
       "    <tr>\n",
       "      <th>Stelasyn</th>\n",
       "      <td>54.233149</td>\n",
       "      <td>52.431737</td>\n",
       "      <td>59.450562</td>\n",
       "      <td>7.710419</td>\n",
       "      <td>0.573111</td>\n",
       "    </tr>\n",
       "    <tr>\n",
       "      <th>Zoniferol</th>\n",
       "      <td>53.236507</td>\n",
       "      <td>51.818479</td>\n",
       "      <td>48.533355</td>\n",
       "      <td>6.966589</td>\n",
       "      <td>0.516398</td>\n",
       "    </tr>\n",
       "  </tbody>\n",
       "</table>\n",
       "</div>"
      ],
      "text/plain": [
       "                   Mean     Median   Variance  Standard Deviation       SEM\n",
       "Drug Regimen                                                               \n",
       "Capomulin     40.675741  41.557809  24.947764            4.994774  0.329346\n",
       "Ceftamin      52.591172  51.776157  39.290177            6.268188  0.469821\n",
       "Infubinol     52.884795  51.820584  43.128684            6.567243  0.492236\n",
       "Ketapril      55.235638  53.698743  68.553577            8.279709  0.603860\n",
       "Naftisol      54.331565  52.509285  66.173479            8.134708  0.596466\n",
       "Placebo       54.033581  52.288934  61.168083            7.821003  0.581331\n",
       "Propriva      52.393463  50.909965  43.138803            6.568014  0.525862\n",
       "Ramicane      40.216745  40.673236  23.486704            4.846308  0.320955\n",
       "Stelasyn      54.233149  52.431737  59.450562            7.710419  0.573111\n",
       "Zoniferol     53.236507  51.818479  48.533355            6.966589  0.516398"
      ]
     },
     "execution_count": 7,
     "metadata": {},
     "output_type": "execute_result"
    }
   ],
   "source": [
    "# Generate a summary statistics table of mean, median, variance, standard deviation, and SEM of the tumor volume for each regimen\n",
    "\n",
    "# Use groupby and summary statistical methods to calculate the following properties of each drug regimen: \n",
    "# mean, median, variance, standard deviation, and SEM of the tumor volume. \n",
    "# Assemble the resulting series into a single summary dataframe.\n",
    "\n",
    "mean = cleaned_df[['Tumor Volume (mm3)', 'Drug Regimen']].groupby(['Drug Regimen']).mean()\n",
    "mean.columns = [\"Mean\"]\n",
    "median = cleaned_df[['Tumor Volume (mm3)', 'Drug Regimen']].groupby(['Drug Regimen']).median()\n",
    "median.columns = [\"Median\"]\n",
    "var = cleaned_df[['Tumor Volume (mm3)', 'Drug Regimen']].groupby(['Drug Regimen']).var()\n",
    "var.columns = [\"Variance\"]\n",
    "stdev = cleaned_df[['Tumor Volume (mm3)', 'Drug Regimen']].groupby(['Drug Regimen']).std()\n",
    "stdev.columns = [\"Standard Deviation\"]\n",
    "sem = cleaned_df[['Tumor Volume (mm3)', 'Drug Regimen']].groupby(['Drug Regimen']).sem()\n",
    "sem.columns = [\"SEM\"]\n",
    "\n",
    "mean_med = mean.merge(median, on='Drug Regimen')\n",
    "mean_med_var = mean_med.merge(var, on='Drug Regimen')\n",
    "mean_med_var_stdev = mean_med_var.merge(stdev, on='Drug Regimen')\n",
    "summary_stats = mean_med_var_stdev.merge(sem, on='Drug Regimen')\n",
    "summary_stats\n",
    "\n",
    "# or I can just use concat to get the same result\n",
    "# summary_stats_df = pd.concat([mean, median, var, stdev, sem], axis=1, join='inner')\n",
    "\n",
    "\n",
    "#cleaned_df[['Tumor Volume (mm3)', 'Drug Regimen']].groupby(['Drug Regimen']).describe()"
   ]
  },
  {
   "cell_type": "code",
   "execution_count": 8,
   "metadata": {},
   "outputs": [],
   "source": [
    "# Generate a summary statistics table of mean, median, variance, standard deviation, and SEM of the tumor volume for each regimen\n",
    "\n",
    "# Using the aggregation method, produce the same summary statistics in a single line\n",
    "#mean = cleaned_df[['Tumor Volume (mm3)', 'Drug Regimen']].groupby(['Drug Regimen']).mean().median().var().std().sem()"
   ]
  },
  {
   "cell_type": "markdown",
   "metadata": {},
   "source": [
    "## Bar and Pie Charts"
   ]
  },
  {
   "cell_type": "code",
   "execution_count": 9,
   "metadata": {},
   "outputs": [
    {
     "name": "stdout",
     "output_type": "stream",
     "text": [
      "              Tumor Volume (mm3)\n",
      "Drug Regimen                    \n",
      "Capomulin                    230\n",
      "Ceftamin                     178\n",
      "Infubinol                    178\n",
      "Ketapril                     188\n",
      "Naftisol                     186\n",
      "Placebo                      181\n",
      "Propriva                     156\n",
      "Ramicane                     228\n",
      "Stelasyn                     181\n",
      "Zoniferol                    182\n"
     ]
    },
    {
     "data": {
      "text/plain": [
       "<matplotlib.axes._subplots.AxesSubplot at 0x1d7f189f7f0>"
      ]
     },
     "execution_count": 9,
     "metadata": {},
     "output_type": "execute_result"
    },
    {
     "data": {
      "image/png": "[encoded data removed]",
      "text/plain": [
       "<Figure size 432x288 with 1 Axes>"
      ]
     },
     "metadata": {
      "needs_background": "light"
     },
     "output_type": "display_data"
    }
   ],
   "source": [
    "# Generate a bar plot showing the total number of measurements taken on each drug regimen using pandas.\n",
    "total = cleaned_df.groupby(['Drug Regimen'])\n",
    "total_measure = total['Tumor Volume (mm3)'].count()\n",
    "total_measure_df = pd.DataFrame(total_measure)\n",
    "total_measure_df\n",
    "print(total_measure_df)\n",
    "total_measure.plot.bar(y='Tumor Volume (mm3)', color='g', alpha=0.9, align=\"center\")\n"
   ]
  },
  {
   "cell_type": "code",
   "execution_count": 10,
   "metadata": {},
   "outputs": [
    {
     "data": {
      "image/png": "[encoded data removed]",
      "text/plain": [
       "<Figure size 432x288 with 1 Axes>"
      ]
     },
     "metadata": {
      "needs_background": "light"
     },
     "output_type": "display_data"
    }
   ],
   "source": [
    "# Generate a bar plot showing the total number of measurements taken on each drug regimen using pyplot.\n",
    "total = cleaned_df.groupby(['Drug Regimen'])\n",
    "total_measure = total['Tumor Volume (mm3)'].count()\n",
    "total_measure_df = pd.DataFrame(total_measure)\n",
    "total_measure_df\n",
    "\n",
    "x_axis = np.arange(len('total_measure_df'))\n",
    "#plt.clf()\n",
    "plt.bar(['Capomulin','Ceftamin','Infubinol','Ketapril','Naftisol','Placebo','Propriva','Ramicane','Stefasyn','Zoniferol'], total_measure_df['Tumor Volume (mm3)'], color='g', alpha=0.75, align=\"center\")\n",
    "plt.xticks(rotation='vertical')\n",
    "plt.title('Total Number of Measurements Taken on Each Drug Regimen')\n",
    "plt.ylabel('Number of Measurement')\n",
    "plt.xlabel('Drug Regimen')\n",
    "plt.show()"
   ]
  },
  {
   "cell_type": "code",
   "execution_count": 11,
   "metadata": {},
   "outputs": [
    {
     "name": "stdout",
     "output_type": "stream",
     "text": [
      "        Mouse ID\n",
      "Sex             \n",
      "Female       930\n",
      "Male         958\n"
     ]
    },
    {
     "data": {
      "text/plain": [
       "Text(0, 0.5, 'Sex Chart')"
      ]
     },
     "execution_count": 11,
     "metadata": {},
     "output_type": "execute_result"
    },
    {
     "data": {
      "image/png": "[encoded data removed]",
      "text/plain": [
       "<Figure size 576x576 with 1 Axes>"
      ]
     },
     "metadata": {},
     "output_type": "display_data"
    }
   ],
   "source": [
    "# Generate a pie plot showing the distribution of female versus male mice using pandas\n",
    "# Group the data by sex\n",
    "sex_df = cleaned_df[['Mouse ID','Sex']].groupby(['Sex']).count()\n",
    "print(sex_df)\n",
    "\n",
    "sex_chart = sex_df.plot.pie(y='Mouse ID', title='Rabbit Distribution by Sex', figsize=(8, 8))\n",
    "sex_chart.set_ylabel('Sex Chart')"
   ]
  },
  {
   "cell_type": "code",
   "execution_count": 12,
   "metadata": {},
   "outputs": [
    {
     "name": "stdout",
     "output_type": "stream",
     "text": [
      "        Mouse ID\n",
      "Sex             \n",
      "Female       930\n",
      "Male         958\n"
     ]
    },
    {
     "data": {
      "image/png": "[encoded data removed]",
      "text/plain": [
       "<Figure size 432x288 with 1 Axes>"
      ]
     },
     "metadata": {},
     "output_type": "display_data"
    }
   ],
   "source": [
    "# Generate a pie plot showing the distribution of female versus male mice using pyplot\n",
    "# Group the data by sex\n",
    "sex_df = cleaned_df[['Mouse ID','Sex']].groupby(['Sex']).count()\n",
    "print(sex_df)\n",
    "\n",
    "# Generate the pie chart shoow the male-female distribution of the rabbits\n",
    "labels = ['Female', 'Male']\n",
    "explode = (0.0, 0.1)\n",
    "colors = ['red','green']\n",
    "plt.pie(sex_df['Mouse ID'], autopct='%1.1f%%', labels=labels, explode = explode, colors=colors, startangle=90, shadow=True)\n",
    "\n",
    "plt.title('Distribution of Rabbits by Sex')\n",
    "plt.show()\n"
   ]
  },
  {
   "cell_type": "markdown",
   "metadata": {},
   "source": [
    "## Quartiles, Outliers and Boxplots"
   ]
  },
  {
   "cell_type": "code",
   "execution_count": 13,
   "metadata": {},
   "outputs": [
    {
     "data": {
      "text/html": [
       "<div>\n",
       "<style scoped>\n",
       "    .dataframe tbody tr th:only-of-type {\n",
       "        vertical-align: middle;\n",
       "    }\n",
       "\n",
       "    .dataframe tbody tr th {\n",
       "        vertical-align: top;\n",
       "    }\n",
       "\n",
       "    .dataframe thead th {\n",
       "        text-align: right;\n",
       "    }\n",
       "</style>\n",
       "<table border=\"1\" class=\"dataframe\">\n",
       "  <thead>\n",
       "    <tr style=\"text-align: right;\">\n",
       "      <th></th>\n",
       "      <th>Mouse ID</th>\n",
       "      <th>Drug Regimen</th>\n",
       "      <th>Sex</th>\n",
       "      <th>Age_months</th>\n",
       "      <th>Weight (g)</th>\n",
       "      <th>Tumor Volume (mm3)</th>\n",
       "      <th>Metastatic Sites</th>\n",
       "    </tr>\n",
       "  </thead>\n",
       "  <tbody>\n",
       "    <tr>\n",
       "      <th>0</th>\n",
       "      <td>a203</td>\n",
       "      <td>Infubinol</td>\n",
       "      <td>Female</td>\n",
       "      <td>20</td>\n",
       "      <td>23</td>\n",
       "      <td>67.973419</td>\n",
       "      <td>2</td>\n",
       "    </tr>\n",
       "    <tr>\n",
       "      <th>1</th>\n",
       "      <td>a251</td>\n",
       "      <td>Infubinol</td>\n",
       "      <td>Female</td>\n",
       "      <td>21</td>\n",
       "      <td>25</td>\n",
       "      <td>65.525743</td>\n",
       "      <td>1</td>\n",
       "    </tr>\n",
       "    <tr>\n",
       "      <th>2</th>\n",
       "      <td>a262</td>\n",
       "      <td>Placebo</td>\n",
       "      <td>Female</td>\n",
       "      <td>17</td>\n",
       "      <td>29</td>\n",
       "      <td>70.717621</td>\n",
       "      <td>4</td>\n",
       "    </tr>\n",
       "    <tr>\n",
       "      <th>3</th>\n",
       "      <td>a275</td>\n",
       "      <td>Ceftamin</td>\n",
       "      <td>Female</td>\n",
       "      <td>20</td>\n",
       "      <td>28</td>\n",
       "      <td>62.999356</td>\n",
       "      <td>3</td>\n",
       "    </tr>\n",
       "    <tr>\n",
       "      <th>4</th>\n",
       "      <td>a366</td>\n",
       "      <td>Stelasyn</td>\n",
       "      <td>Female</td>\n",
       "      <td>16</td>\n",
       "      <td>29</td>\n",
       "      <td>63.440686</td>\n",
       "      <td>1</td>\n",
       "    </tr>\n",
       "    <tr>\n",
       "      <th>...</th>\n",
       "      <td>...</td>\n",
       "      <td>...</td>\n",
       "      <td>...</td>\n",
       "      <td>...</td>\n",
       "      <td>...</td>\n",
       "      <td>...</td>\n",
       "      <td>...</td>\n",
       "    </tr>\n",
       "    <tr>\n",
       "      <th>244</th>\n",
       "      <td>z435</td>\n",
       "      <td>Propriva</td>\n",
       "      <td>Female</td>\n",
       "      <td>12</td>\n",
       "      <td>26</td>\n",
       "      <td>48.710661</td>\n",
       "      <td>0</td>\n",
       "    </tr>\n",
       "    <tr>\n",
       "      <th>245</th>\n",
       "      <td>z578</td>\n",
       "      <td>Ramicane</td>\n",
       "      <td>Male</td>\n",
       "      <td>11</td>\n",
       "      <td>16</td>\n",
       "      <td>30.638696</td>\n",
       "      <td>0</td>\n",
       "    </tr>\n",
       "    <tr>\n",
       "      <th>246</th>\n",
       "      <td>z581</td>\n",
       "      <td>Infubinol</td>\n",
       "      <td>Female</td>\n",
       "      <td>24</td>\n",
       "      <td>25</td>\n",
       "      <td>62.754451</td>\n",
       "      <td>3</td>\n",
       "    </tr>\n",
       "    <tr>\n",
       "      <th>247</th>\n",
       "      <td>z795</td>\n",
       "      <td>Naftisol</td>\n",
       "      <td>Female</td>\n",
       "      <td>13</td>\n",
       "      <td>29</td>\n",
       "      <td>65.741070</td>\n",
       "      <td>3</td>\n",
       "    </tr>\n",
       "    <tr>\n",
       "      <th>248</th>\n",
       "      <td>z969</td>\n",
       "      <td>Naftisol</td>\n",
       "      <td>Male</td>\n",
       "      <td>9</td>\n",
       "      <td>30</td>\n",
       "      <td>73.867845</td>\n",
       "      <td>4</td>\n",
       "    </tr>\n",
       "  </tbody>\n",
       "</table>\n",
       "<p>249 rows × 7 columns</p>\n",
       "</div>"
      ],
      "text/plain": [
       "    Mouse ID Drug Regimen     Sex  Age_months  Weight (g)  Tumor Volume (mm3)  \\\n",
       "0       a203    Infubinol  Female          20          23           67.973419   \n",
       "1       a251    Infubinol  Female          21          25           65.525743   \n",
       "2       a262      Placebo  Female          17          29           70.717621   \n",
       "3       a275     Ceftamin  Female          20          28           62.999356   \n",
       "4       a366     Stelasyn  Female          16          29           63.440686   \n",
       "..       ...          ...     ...         ...         ...                 ...   \n",
       "244     z435     Propriva  Female          12          26           48.710661   \n",
       "245     z578     Ramicane    Male          11          16           30.638696   \n",
       "246     z581    Infubinol  Female          24          25           62.754451   \n",
       "247     z795     Naftisol  Female          13          29           65.741070   \n",
       "248     z969     Naftisol    Male           9          30           73.867845   \n",
       "\n",
       "     Metastatic Sites  \n",
       "0                   2  \n",
       "1                   1  \n",
       "2                   4  \n",
       "3                   3  \n",
       "4                   1  \n",
       "..                ...  \n",
       "244                 0  \n",
       "245                 0  \n",
       "246                 3  \n",
       "247                 3  \n",
       "248                 4  \n",
       "\n",
       "[249 rows x 7 columns]"
      ]
     },
     "execution_count": 13,
     "metadata": {},
     "output_type": "execute_result"
    }
   ],
   "source": [
    "# Calculate the final tumor volume of each mouse across four of the treatment regimens:  \n",
    "# Capomulin, Ramicane, Infubinol, and Ceftamin\n",
    "\n",
    "# Start by getting the last (greatest) timepoint for each mouse\n",
    "final_vol = cleaned_df[['Mouse ID', 'Timepoint']].groupby(['Mouse ID']).max()\n",
    "final_vol\n",
    "\n",
    "# Merge this group df with the original dataframe to get the tumor volume at the last timepoint\n",
    "final_vol_df = final_vol.merge(cleaned_df, how='left', on=['Mouse ID','Timepoint'])\n",
    "tumor_vol_df = final_vol_df.drop(columns=['Timepoint'])\n",
    "tumor_vol_df\n"
   ]
  },
  {
   "cell_type": "code",
   "execution_count": 14,
   "metadata": {},
   "outputs": [
    {
     "name": "stdout",
     "output_type": "stream",
     "text": [
      "1. Results for the Camopulin Regimen\n",
      "------------------------------------------\n",
      "The lower quanrtile is 32.38\n",
      "The upper quanrtile is 40.16\n",
      "The lower bound is -3.89\n",
      "The upper bound is 19.45\n",
      "\n",
      "2. Results for the Ramicane Regimen\n",
      "------------------------------------------\n",
      "The lower quanrtile is 31.56\n",
      "The upper quanrtile is 40.66\n",
      "The lower bound is -4.55\n",
      "The upper bound is 22.75\n",
      "\n",
      "3. Results for the Infubinol Regimen\n",
      "------------------------------------------\n",
      "The lower quanrtile is 54.05\n",
      "The upper quanrtile is 65.53\n",
      "The lower bound is -5.74\n",
      "The upper bound is 28.69\n",
      "\n",
      "4. Results for the Ceftamin Regimen\n",
      "------------------------------------------\n",
      "The lower quanrtile is 48.72\n",
      "The upper quanrtile is 64.3\n",
      "The lower bound is -7.79\n",
      "The upper bound is 38.94\n"
     ]
    }
   ],
   "source": [
    "# Put treatments into a list for for loop (and later for plot labels)\n",
    "\n",
    "\n",
    "# Create empty list to fill with tumor vol data (for plotting)\n",
    "   \n",
    "drug_treatment = ['Capomulin', 'Ramicane', 'Infubinol', 'Ceftamin']\n",
    "tumor_vol_data = []\n",
    "# Locate the rows which contain mice on each drug and get the tumor volumes\n",
    "for x in drug_treatment:\n",
    "    temp = tumor_vol_df.loc[(tumor_vol_df['Drug Regimen'] == x), ['Tumor Volume (mm3)']]\n",
    "    # add subset\n",
    "    tumor_vol_data.append(temp)\n",
    "tumor_vol_data\n",
    "\n",
    "# I decided to put the elements of the list into their respective DataFrames\n",
    "capomulin = (tumor_vol_data[0])\n",
    "ramicane = tumor_vol_data[1]\n",
    "infubinol = tumor_vol_data[2]\n",
    "ceftamin = tumor_vol_data[3]\n",
    "\n",
    "# Reset the index and drop the original index\n",
    "capomulin = capomulin.reset_index(drop=True)\n",
    "ramicane = ramicane.reset_index(drop=True)\n",
    "infubinol = infubinol.reset_index(drop=True)\n",
    "ceftamin = ceftamin.reset_index(drop=True)\n",
    "\n",
    "# Rename the tumor volume columns to their respective regimens names \n",
    "cap = capomulin.rename(columns={'Tumor Volume (mm3)': 'capomulin'})\n",
    "ram = ramicane.rename(columns={'Tumor Volume (mm3)': 'ramicane'})\n",
    "inf = infubinol.rename(columns={'Tumor Volume (mm3)': 'infubinol'})\n",
    "cef = ceftamin.rename(columns={'Tumor Volume (mm3)': 'ceftamin'})\n",
    "\n",
    "# Combined all four to get  nice DataFrame I will use to compute the quantiles nd construct the boxplots\n",
    "combined_tumor_vol = pd.concat([cap, ram, inf, cef], axis=1)\n",
    "combined_tumor_vol.head() # Now I have a nice DataFrame to work with. \n",
    "\n",
    "# Calculate the IQR and quantitatively determine if there are any potential outliers. \n",
    "# Here I did the calculations one regimen at a time\n",
    "# Calculating the Quartiles. \n",
    "# 1. Capomulin\n",
    "quartiles = cap['capomulin'].quantile([0.25, 0.50, 0.75])\n",
    "lowerq = quartiles[0.25]\n",
    "upperq = quartiles[0.75]\n",
    "iqr = upperq - lowerq\n",
    "\n",
    "lower_bound = iqr - (1.5*iqr)\n",
    "upper_bound = iqr + (1.5*iqr)\n",
    "\n",
    "print(f\"1. Results for the Camopulin Regimen\")\n",
    "print(f\"------------------------------------------\")\n",
    "print(f\"The lower quanrtile is {round(lowerq, 2)}\")\n",
    "print(f\"The upper quanrtile is {round(upperq, 2)}\")\n",
    "print(f\"The lower bound is {round(lower_bound, 2)}\")\n",
    "print(f\"The upper bound is {round(upper_bound, 2)}\")\n",
    "print(\"\")\n",
    "\n",
    "# 2. Ramicane\n",
    "quartiles = ram['ramicane'].quantile([0.25, 0.50, 0.75])\n",
    "lowerq = quartiles[0.25]\n",
    "upperq = quartiles[0.75]\n",
    "iqr = upperq - lowerq\n",
    "\n",
    "lower_bound = iqr - (1.5*iqr)\n",
    "upper_bound = iqr + (1.5*iqr)\n",
    "\n",
    "print(f\"2. Results for the Ramicane Regimen\")\n",
    "print(f\"------------------------------------------\")\n",
    "print(f\"The lower quanrtile is {round(lowerq, 2)}\")\n",
    "print(f\"The upper quanrtile is {round(upperq, 2)}\")\n",
    "print(f\"The lower bound is {round(lower_bound, 2)}\")\n",
    "print(f\"The upper bound is {round(upper_bound, 2)}\")\n",
    "print(\"\")\n",
    "\n",
    "# 3. Infubinol\n",
    "quartiles = inf['infubinol'].quantile([0.25, 0.50, 0.75])\n",
    "lowerq = quartiles[0.25]\n",
    "upperq = quartiles[0.75]\n",
    "iqr = upperq - lowerq\n",
    "\n",
    "lower_bound = iqr - (1.5*iqr)\n",
    "upper_bound = iqr + (1.5*iqr)\n",
    "\n",
    "print(f\"3. Results for the Infubinol Regimen\")\n",
    "print(f\"------------------------------------------\")\n",
    "print(f\"The lower quanrtile is {round(lowerq, 2)}\")\n",
    "print(f\"The upper quanrtile is {round(upperq, 2)}\")\n",
    "print(f\"The lower bound is {round(lower_bound, 2)}\")\n",
    "print(f\"The upper bound is {round(upper_bound, 2)}\")\n",
    "print(\"\")\n",
    "\n",
    "# 4. Ceftamin\n",
    "quartiles = cef['ceftamin'].quantile([0.25, 0.50, 0.75])\n",
    "lowerq = quartiles[0.25]\n",
    "upperq = quartiles[0.75]\n",
    "iqr = upperq - lowerq\n",
    "\n",
    "lower_bound = iqr - (1.5*iqr)\n",
    "upper_bound = iqr + (1.5*iqr)\n",
    "\n",
    "print(f\"4. Results for the Ceftamin Regimen\")\n",
    "print(f\"------------------------------------------\")\n",
    "print(f\"The lower quanrtile is {round(lowerq, 2)}\")\n",
    "print(f\"The upper quanrtile is {round(upperq, 2)}\")\n",
    "print(f\"The lower bound is {round(lower_bound, 2)}\")\n",
    "print(f\"The upper bound is {round(upper_bound, 2)}\")"
   ]
  },
  {
   "cell_type": "markdown",
   "metadata": {},
   "source": [
    "## Line and Scatter Plots"
   ]
  },
  {
   "cell_type": "code",
   "execution_count": 15,
   "metadata": {},
   "outputs": [
    {
     "data": {
      "image/png": "[encoded data removed]",
      "text/plain": [
       "<Figure size 432x288 with 1 Axes>"
      ]
     },
     "metadata": {
      "needs_background": "light"
     },
     "output_type": "display_data"
    },
    {
     "name": "stdout",
     "output_type": "stream",
     "text": [
      "Infubinol has one outlier, the other three have no outliers.\n"
     ]
    }
   ],
   "source": [
    "# Generate a box plot of the final tumor volume of each mouse across four regimens of interest\n",
    "\n",
    "# Plotting the boxplots for the four drug regimens\n",
    "combined_tumor_vol.boxplot(['capomulin', 'ramicane', 'infubinol', 'ceftamin'])\n",
    "plt.title('Boxplots of Tumor Volume for Capomulin, Ramicine, Infubinol, and Ceftamin')\n",
    "plt.ylabel('Tumor Volume (mm3)')\n",
    "plt.show()\n",
    "\n",
    "print(f\"Infubinol has one outlier, the other three have no outliers.\")"
   ]
  },
  {
   "cell_type": "code",
   "execution_count": 16,
   "metadata": {},
   "outputs": [
    {
     "data": {
      "image/png": "[encoded data removed]",
      "text/plain": [
       "<Figure size 432x288 with 1 Axes>"
      ]
     },
     "metadata": {
      "needs_background": "light"
     },
     "output_type": "display_data"
    }
   ],
   "source": [
    "# Generate a line plot of tumor volume vs. time point for a mouse treated with Capomulin\n",
    "\n",
    "# Used loc to isolate the Capomulin regimen and a single mouse with Mouse ID s185\n",
    "capomulin_data = cleaned_df.loc[(cleaned_df['Drug Regimen'] == 'Capomulin') & (cleaned_df['Mouse ID'] == 's185')]\n",
    "\n",
    "\n",
    "# Create the timepoint and tumor volum axes for s185 that was treated with capomulin\n",
    "time_point = capomulin_data.iloc[:,5]\n",
    "tumor_volume = capomulin_data.iloc[:,6]\n",
    "\n",
    "# Plot the line graph, label the axes and give it a title\n",
    "tumor_volume = plt.plot(time_point, tumor_volume, marker='x', color='b')\n",
    "plt.title('Tumor Volume vs Time Point for Mouse ID s185')\n",
    "plt.ylabel('Tumor Volume')\n",
    "plt.xlabel('Time Point')\n",
    "plt.show()\n",
    "\n",
    "\n"
   ]
  },
  {
   "cell_type": "code",
   "execution_count": 17,
   "metadata": {},
   "outputs": [
    {
     "data": {
      "image/png": "[encoded data removed]",
      "text/plain": [
       "<Figure size 432x288 with 1 Axes>"
      ]
     },
     "metadata": {
      "needs_background": "light"
     },
     "output_type": "display_data"
    }
   ],
   "source": [
    "# Generate a scatter plot of average tumor volume vs. mouse weight for the Capomulin regimen\n",
    "\n",
    "# Using loc to isolate the regimen capomulin and the used groupby to find the average tumor volume and weight\n",
    "capomulin = cleaned_df.loc[(cleaned_df['Drug Regimen'] == 'Capomulin')]\n",
    "ave_tv_mw_cap = capomulin[['Tumor Volume (mm3)', 'Weight (g)', 'Mouse ID']].groupby(['Mouse ID']).mean()\n",
    "\n",
    "# Plot a scatter plot of the average tumor volume and weight, labe the axes and give it a title\n",
    "# Note: ave_tv_mw_cap = average tumor volume and mouse weight for the capomulin regimen\n",
    "plt.scatter(ave_tv_mw_cap['Weight (g)'], ave_tv_mw_cap['Tumor Volume (mm3)'], marker='o', facecolors='blue')\n",
    "plt.ylabel('Tumor Volume (mm3)')\n",
    "plt.xlabel('Mouse Weight (g)')\n",
    "plt.title('Avarage Tumor Volume vs. Mouse Weight for the Capomulin Regimen')\n",
    "plt.grid()\n",
    "plt.show()\n"
   ]
  },
  {
   "cell_type": "markdown",
   "metadata": {},
   "source": [
    "## Correlation and Regression"
   ]
  },
  {
   "cell_type": "code",
   "execution_count": 18,
   "metadata": {},
   "outputs": [
    {
     "name": "stdout",
     "output_type": "stream",
     "text": [
      "The correlation coefficient between average tumor volume and mouse weight is 0.84\n",
      "y = 0.95x + 21.55\n"
     ]
    },
    {
     "data": {
      "image/png": "[encoded data removed]",
      "text/plain": [
       "<Figure size 432x288 with 1 Axes>"
      ]
     },
     "metadata": {
      "needs_background": "light"
     },
     "output_type": "display_data"
    }
   ],
   "source": [
    "# Calculate the correlation coefficient and linear regression model \n",
    "# for mouse weight and average tumor volume for the Capomulin regimen\n",
    "#capomulin_data = cleaned_df.loc[cleaned_df['Drug Regimen'] == 'Capomulin']\n",
    "\n",
    "# prepare the series to be plotted on the x & y axes\n",
    "mouse_weight = ave_tv_mw_cap.iloc[:,1]\n",
    "tumor_volume = ave_tv_mw_cap.iloc[:,0]\n",
    "\n",
    "# Calculate and print the correlation coefficient betetween average tumore volume and mouse weight\n",
    "correlation = st.pearsonr(mouse_weight, tumor_volume)\n",
    "print(f\"The correlation coefficient between average tumor volume and mouse weight is {round(correlation[0],2)}\")\n",
    "\n",
    "# calculating values and constructing the regression line\n",
    "x_values = ave_tv_mw_cap['Weight (g)']\n",
    "y_values = ave_tv_mw_cap['Tumor Volume (mm3)']\n",
    "(slope, intercept, rvalue, pvalue, stderr) = linregress(mouse_weight, tumor_volume)\n",
    "regress_values = mouse_weight*slope + intercept\n",
    "line_eq = \"y = \" + str(round(slope, 2)) + \"x + \" + str(round(intercept, 2))\n",
    "print(line_eq)\n",
    "\n",
    "# Reproducing the scatter plot and inserting the regression line and equation\n",
    "plt.scatter(x_values, y_values, marker='o', facecolors='r')\n",
    "plt.plot(x_values,regress_values,\"black\")\n",
    "plt.annotate(line_eq,(15,45),fontsize=15,color=\"black\")\n",
    "plt.ylabel('Tumor Volume (mm3)')\n",
    "plt.xlabel('Mouse Weight (g)')\n",
    "plt.title('Avarage Tumor Volume vs. Mouse Weight for the Capomulin Regimen')\n",
    "plt.grid()\n",
    "plt.show()"
   ]
  },
  {
   "cell_type": "code",
   "execution_count": null,
   "metadata": {},
   "outputs": [],
   "source": []
  }
 ],
 "metadata": {
  "anaconda-cloud": {},
  "kernelspec": {
   "display_name": "Python 3",
   "language": "python",
   "name": "python3"
  },
  "language_info": {
   "codemirror_mode": {
    "name": "ipython",
    "version": 3
   },
   "file_extension": ".py",
   "mimetype": "text/x-python",
   "name": "python",
   "nbconvert_exporter": "python",
   "pygments_lexer": "ipython3",
   "version": "3.6.10"
  }
 },
 "nbformat": 4,
 "nbformat_minor": 4
}
